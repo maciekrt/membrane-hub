{
 "cells": [
  {
   "cell_type": "code",
   "execution_count": 106,
   "metadata": {},
   "outputs": [],
   "source": [
    "import shutil\n",
    "import requests\n",
    "import numpy as np\n",
    "import pandas as pd\n",
    "import matplotlib.pyplot as plt\n",
    "from tqdm import tqdm\n",
    "import json"
   ]
  },
  {
   "cell_type": "markdown",
   "metadata": {},
   "source": [
    "## Getting the list of files from API endpoint"
   ]
  },
  {
   "cell_type": "code",
   "execution_count": 107,
   "metadata": {},
   "outputs": [
    {
     "data": {
      "text/plain": [
       "['FISH1_BDNF488_10_DMSO_romi_10_CA',\n",
       " 'FISH1_BDNF488_10_DMSO_romi_1_CA',\n",
       " 'FISH1_BDNF488_10_DMSO_romi_4_CA',\n",
       " 'FISH1_BDNF488_10_DMSO_romi_5_CA',\n",
       " 'FISH1_BDNF488_10_DMSO_romi_6_CA',\n",
       " 'FISH1_BDNF488_10_DMSO_romi_7_CA',\n",
       " 'FISH1_BDNF488_10_DMSO_romi_8_CA',\n",
       " 'FISH1_BDNF488_10_DMSO_romi_9_CA',\n",
       " 'FISH1_BDNF488_1_cLTP_10_CA',\n",
       " 'FISH1_BDNF488_1_cLTP_1_CA-Background subtraction-07']"
      ]
     },
     "execution_count": 107,
     "metadata": {},
     "output_type": "execute_result"
    }
   ],
   "source": [
    "url = f\"http://localhost:3001/api/segmentation/list/m.zdanowicz@gmail.com\"\n",
    "response = requests.get(url)\n",
    "list_of_files = json.loads(response.content)['list']\n",
    "del response\n",
    "\n",
    "list_of_files[:10]"
   ]
  },
  {
   "cell_type": "markdown",
   "metadata": {},
   "source": [
    "## Function for segmentation loading"
   ]
  },
  {
   "cell_type": "code",
   "execution_count": 108,
   "metadata": {},
   "outputs": [],
   "source": [
    "def loadSegmentationAPI(name):\n",
    "    # https://stackoverflow.com/questions/13137817/how-to-download-image-using-requests\n",
    "    url = f\"http://localhost:3001/api/segmentation/file/m.zdanowicz@gmail.com/{name}\"\n",
    "    response = requests.get(url, stream=True)\n",
    "    if response.status_code == 200:\n",
    "        # It would much better not to create any files here\n",
    "        with open('tmp.npy', 'wb') as out_file:\n",
    "            shutil.copyfileobj(response.raw, out_file)\n",
    "        del response\n",
    "        full_data = np.load('tmp.npy')\n",
    "        return full_data\n",
    "    else:\n",
    "        raise Exception(f\"Couldn't get the file from API (code {response.status_code})\")"
   ]
  },
  {
   "cell_type": "markdown",
   "metadata": {},
   "source": [
    "## Loading segmentation for some of the files"
   ]
  },
  {
   "cell_type": "markdown",
   "metadata": {},
   "source": [
    "### First a little test"
   ]
  },
  {
   "cell_type": "code",
   "execution_count": 109,
   "metadata": {},
   "outputs": [
    {
     "data": {
      "text/plain": [
       "['FISH1_BDNF488_10_DMSO_romi_10_CA',\n",
       " 'FISH1_BDNF488_10_DMSO_romi_1_CA',\n",
       " 'FISH1_BDNF488_10_DMSO_romi_4_CA',\n",
       " 'FISH1_BDNF488_10_DMSO_romi_5_CA',\n",
       " 'FISH1_BDNF488_10_DMSO_romi_6_CA']"
      ]
     },
     "execution_count": 109,
     "metadata": {},
     "output_type": "execute_result"
    }
   ],
   "source": [
    "NAMES = list_of_files[:5]\n",
    "NAMES"
   ]
  },
  {
   "cell_type": "code",
   "execution_count": 110,
   "metadata": {},
   "outputs": [
    {
     "name": "stdout",
     "output_type": "stream",
     "text": [
      "CPU times: user 29.2 ms, sys: 161 ms, total: 190 ms\n",
      "Wall time: 11.4 s\n"
     ]
    }
   ],
   "source": [
    "%%time\n",
    "\n",
    "# For now a little evidence that it works correctly\n",
    "path = f\"/home/ubuntu/Projects/data/segmentation/m.zdanowicz@gmail.com/masks_3D_conv_clipped_{NAMES[0]}.npy\"\n",
    "full_data_disk = np.load(path)\n",
    "full_data_api = loadSegmentationAPI(NAMES[0])\n",
    "assert np.all(np.equal(full_data_disk, full_data_api)), \"Wrong\""
   ]
  },
  {
   "cell_type": "code",
   "execution_count": 111,
   "metadata": {},
   "outputs": [
    {
     "ename": "Exception",
     "evalue": "Couldn't get the file from API (code 404)",
     "output_type": "error",
     "traceback": [
      "\u001b[0;31m------------------------------------------------------------------\u001b[0m",
      "\u001b[0;31mException\u001b[0m                        Traceback (most recent call last)",
      "\u001b[0;32m<timed exec>\u001b[0m in \u001b[0;36m<module>\u001b[0;34m\u001b[0m\n",
      "\u001b[0;32m<ipython-input-108-90851882c429>\u001b[0m in \u001b[0;36mloadSegmentationAPI\u001b[0;34m(name)\u001b[0m\n\u001b[1;32m     11\u001b[0m         \u001b[0;32mreturn\u001b[0m \u001b[0mfull_data\u001b[0m\u001b[0;34m\u001b[0m\u001b[0;34m\u001b[0m\u001b[0m\n\u001b[1;32m     12\u001b[0m     \u001b[0;32melse\u001b[0m\u001b[0;34m:\u001b[0m\u001b[0;34m\u001b[0m\u001b[0;34m\u001b[0m\u001b[0m\n\u001b[0;32m---> 13\u001b[0;31m         \u001b[0;32mraise\u001b[0m \u001b[0mException\u001b[0m\u001b[0;34m(\u001b[0m\u001b[0;34mf\"Couldn't get the file from API (code {response.status_code})\"\u001b[0m\u001b[0;34m)\u001b[0m\u001b[0;34m\u001b[0m\u001b[0;34m\u001b[0m\u001b[0m\n\u001b[0m",
      "\u001b[0;31mException\u001b[0m: Couldn't get the file from API (code 404)"
     ]
    }
   ],
   "source": [
    "%%time\n",
    "\n",
    "# For now a little evidence that it raises exceptions in the right way\n",
    "path = f\"/home/ubuntu/Projects/data/segmentation/m.zdanowicz@gmail.com/masks_3D_conv_clipped_{NAMES[0]}.npy\"\n",
    "full_data_disk = np.load(path)\n",
    "full_data_api = loadSegmentationAPI(NAMES[0]+\"getting_error\")\n",
    "assert np.all(np.equal(full_data_disk, full_data_api)), \"Wrong\""
   ]
  },
  {
   "cell_type": "code",
   "execution_count": 112,
   "metadata": {},
   "outputs": [
    {
     "data": {
      "text/plain": [
       "<matplotlib.image.AxesImage at 0x7f123384cd60>"
      ]
     },
     "execution_count": 112,
     "metadata": {},
     "output_type": "execute_result"
    },
    {
     "data": {
      "image/png": "[encoded data removed]",
      "text/plain": [
       "<Figure size 432x288 with 1 Axes>"
      ]
     },
     "metadata": {
      "needs_background": "light"
     },
     "output_type": "display_data"
    }
   ],
   "source": [
    "plt.imshow(full_data[23,:,:])"
   ]
  },
  {
   "cell_type": "markdown",
   "metadata": {},
   "source": [
    "### Now a few files from one of the experiments"
   ]
  },
  {
   "cell_type": "code",
   "execution_count": 113,
   "metadata": {},
   "outputs": [
    {
     "name": "stderr",
     "output_type": "stream",
     "text": [
      "100%|██████████| 5/5 [01:01<00:00, 12.31s/it]"
     ]
    },
    {
     "name": "stdout",
     "output_type": "stream",
     "text": [
      "CPU times: user 72.8 ms, sys: 552 ms, total: 625 ms\n",
      "Wall time: 1min 1s\n"
     ]
    },
    {
     "name": "stderr",
     "output_type": "stream",
     "text": [
      "\n"
     ]
    }
   ],
   "source": [
    "%%time\n",
    "\n",
    "segmentations = {}\n",
    "for name in tqdm(NAMES):\n",
    "    segmentations[name] = loadSegmentationAPI(name)"
   ]
  },
  {
   "cell_type": "markdown",
   "metadata": {},
   "source": [
    "## Computing the volumes and their statistics"
   ]
  },
  {
   "cell_type": "code",
   "execution_count": 114,
   "metadata": {},
   "outputs": [],
   "source": [
    "def computeVolumes(data):\n",
    "    _, volumes = np.unique(data, return_counts=True)\n",
    "    return volumes[1:]"
   ]
  },
  {
   "cell_type": "code",
   "execution_count": 115,
   "metadata": {},
   "outputs": [
    {
     "name": "stderr",
     "output_type": "stream",
     "text": [
      "100%|██████████| 5/5 [00:06<00:00,  1.23s/it]"
     ]
    },
    {
     "name": "stdout",
     "output_type": "stream",
     "text": [
      "CPU times: user 5.81 s, sys: 340 ms, total: 6.15 s\n",
      "Wall time: 6.14 s\n"
     ]
    },
    {
     "name": "stderr",
     "output_type": "stream",
     "text": [
      "\n"
     ]
    }
   ],
   "source": [
    "%%time\n",
    "\n",
    "volumes = [computeVolumes(segmentations[name]) for name in tqdm(NAMES)]"
   ]
  },
  {
   "cell_type": "markdown",
   "metadata": {},
   "source": [
    "## Populate a data frame for further processing"
   ]
  },
  {
   "cell_type": "code",
   "execution_count": 116,
   "metadata": {},
   "outputs": [],
   "source": [
    "df = pd.DataFrame(index=NAMES)\n",
    "df['volumes'] = volumes\n",
    "df['no. of cells'] = df['volumes'].apply(lambda x: len(x))\n",
    "df['avg. volume'] = df['volumes'].apply(lambda x: x.mean())\n",
    "df['std. volume'] = df['volumes'].apply(lambda x: x.std())"
   ]
  },
  {
   "cell_type": "code",
   "execution_count": 118,
   "metadata": {},
   "outputs": [],
   "source": [
    "global_volume_average = (df['volumes'].apply(lambda x: x.sum())).sum()/df['no. of cells'].sum()\n",
    "glob"
   ]
  },
  {
   "cell_type": "code",
   "execution_count": null,
   "metadata": {},
   "outputs": [],
   "source": []
  }
 ],
 "metadata": {
  "kernelspec": {
   "display_name": "Python 3",
   "language": "python",
   "name": "python3"
  },
  "language_info": {
   "codemirror_mode": {
    "name": "ipython",
    "version": 3
   },
   "file_extension": ".py",
   "mimetype": "text/x-python",
   "name": "python",
   "nbconvert_exporter": "python",
   "pygments_lexer": "ipython3",
   "version": "3.8.5"
  }
 },
 "nbformat": 4,
 "nbformat_minor": 4
}
