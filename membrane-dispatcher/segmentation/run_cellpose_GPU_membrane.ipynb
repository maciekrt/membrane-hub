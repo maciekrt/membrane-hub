{
 "cells": [
  {
   "cell_type": "markdown",
   "metadata": {
    "colab_type": "text",
    "id": "Q7c7V4yEqDc_"
   },
   "source": [
    "# Run cellpose on a single file"
   ]
  },
  {
   "cell_type": "code",
   "execution_count": 1,
   "metadata": {},
   "outputs": [],
   "source": [
    "czi_file_path = '/home/ubuntu/Projects/data/uploads/m.zdanowicz@gmail.com/FISH1_BDNF488_1_cLTP_1_CA.czi'\n",
    "out_mask_filepath = '/home/ubuntu/masks_2D_stitched_FISH1_BDNF488_1_cLTP_3_CA.npy'"
   ]
  },
  {
   "cell_type": "code",
   "execution_count": 2,
   "metadata": {},
   "outputs": [],
   "source": [
    "# We assume we make use of only one channel (DAPI) from the input\n",
    "# It is usually the last channel\n",
    "nuclei_channel = -1 \n",
    "mask_volume_threshold_of_max = 0.05\n",
    "diameter = 110"
   ]
  },
  {
   "cell_type": "code",
   "execution_count": 3,
   "metadata": {
    "colab": {
     "base_uri": "https://localhost:8080/",
     "height": 34
    },
    "colab_type": "code",
    "id": "hG3LSmJmLylT",
    "outputId": "1fa3d4e7-5c03-4699-ac33-879a319343e5"
   },
   "outputs": [],
   "source": [
    "import numpy as np\n",
    "import time, os, sys\n",
    "from urllib.parse import urlparse\n",
    "import skimage.io\n",
    "import matplotlib.pyplot as plt\n",
    "import matplotlib as mpl\n",
    "%matplotlib inline\n",
    "mpl.rcParams['figure.dpi'] = 300\n",
    "\n",
    "from urllib.parse import urlparse\n",
    "import torch\n",
    "from cellpose import utils\n",
    "\n",
    "from pathlib import Path\n",
    "\n",
    "# use_GPU = utils.use_gpu()\n",
    "# print('GPU activated? %d'%use_GPU)\n"
   ]
  },
  {
   "cell_type": "code",
   "execution_count": 4,
   "metadata": {},
   "outputs": [],
   "source": [
    "assert Path(czi_file_path).suffix == '.czi', czi_file_path\n",
    "assert Path(czi_file_path).exists(), czi_file_path"
   ]
  },
  {
   "cell_type": "code",
   "execution_count": 5,
   "metadata": {},
   "outputs": [
    {
     "output_type": "execute_result",
     "data": {
      "text/plain": [
       "'FISH1_BDNF488_1_cLTP_1_CA'"
      ]
     },
     "metadata": {},
     "execution_count": 5
    }
   ],
   "source": [
    "base_filename = Path(czi_file_path).stem\n",
    "base_filename"
   ]
  },
  {
   "cell_type": "markdown",
   "metadata": {
    "colab_type": "text",
    "id": "qj5AIZ825o7P"
   },
   "source": [
    "## save output to *_seg.npy\n",
    "\n",
    "you will see the files save in the Files tab and you can download them from there"
   ]
  },
  {
   "cell_type": "code",
   "execution_count": 6,
   "metadata": {
    "colab": {},
    "colab_type": "code",
    "id": "qc7EWe_f5oEH"
   },
   "outputs": [],
   "source": [
    "# TODO(gkk): we might want to save this \n",
    "# from cellpose import io\n",
    "\n",
    "# io.masks_flows_to_seg(imgs, masks, flows, diams, files, channels)"
   ]
  },
  {
   "cell_type": "markdown",
   "metadata": {},
   "source": [
    "# Read the input data"
   ]
  },
  {
   "cell_type": "code",
   "execution_count": 7,
   "metadata": {},
   "outputs": [
    {
     "output_type": "execute_result",
     "data": {
      "text/plain": [
       "'2020.12.8'"
      ]
     },
     "metadata": {},
     "execution_count": 7
    }
   ],
   "source": [
    "import tifffile\n",
    "tifffile.__version__"
   ]
  },
  {
   "cell_type": "code",
   "execution_count": 8,
   "metadata": {},
   "outputs": [],
   "source": [
    "from tifffile import imread"
   ]
  },
  {
   "cell_type": "code",
   "execution_count": 9,
   "metadata": {},
   "outputs": [],
   "source": [
    "from aicsimageio import AICSImage"
   ]
  },
  {
   "cell_type": "code",
   "execution_count": 10,
   "metadata": {},
   "outputs": [
    {
     "output_type": "stream",
     "name": "stdout",
     "text": [
      "(2, 63, 1024, 1024)\n"
     ]
    },
    {
     "output_type": "execute_result",
     "data": {
      "text/plain": [
       "(63, 2, 1024, 1024)"
      ]
     },
     "metadata": {},
     "execution_count": 10
    }
   ],
   "source": [
    "data = AICSImage(czi_file_path).data.squeeze()\n",
    "print(data.shape)\n",
    "\n",
    "# Add new axes if the image only has 2 or 3\n",
    "if len(data.shape) == 2:\n",
    "    data = data[np.newaxis,np.newaxis,...]\n",
    "if len(data.shape) == 3:\n",
    "    data = data[np.newaxis,...]\n",
    "\n",
    "# swap axes so we have the (Z, channels, Y, X) shape\n",
    "# TODO: make this automatic\n",
    "data = np.swapaxes(data, 0, 1)\n",
    "data.shape"
   ]
  },
  {
   "cell_type": "markdown",
   "metadata": {},
   "source": [
    "## Cellpose 2D mode\n",
    "2D planes segmented separately and masks stitched together"
   ]
  },
  {
   "cell_type": "code",
   "execution_count": 25,
   "metadata": {},
   "outputs": [
    {
     "output_type": "execute_result",
     "data": {
      "text/plain": [
       "(0, 63)"
      ]
     },
     "metadata": {},
     "execution_count": 25
    }
   ],
   "source": [
    "z_start_idx, z_end_idx = 0,data.shape[0]\n",
    "z_start_idx, z_end_idx"
   ]
  },
  {
   "cell_type": "code",
   "execution_count": 27,
   "metadata": {},
   "outputs": [],
   "source": [
    "data.shape\n",
    "imgs = data[z_start_idx:z_end_idx,:,:,:]"
   ]
  },
  {
   "cell_type": "code",
   "execution_count": 32,
   "metadata": {},
   "outputs": [],
   "source": [
    "imgs = [data[p,nuclei_channel,:,:] for p in range(z_start_idx,z_end_idx)]"
   ]
  },
  {
   "cell_type": "code",
   "execution_count": 33,
   "metadata": {},
   "outputs": [
    {
     "output_type": "execute_result",
     "data": {
      "text/plain": [
       "63"
      ]
     },
     "metadata": {},
     "execution_count": 33
    }
   ],
   "source": [
    "len(imgs)"
   ]
  },
  {
   "cell_type": "code",
   "execution_count": 34,
   "metadata": {},
   "outputs": [],
   "source": [
    "channels = len(imgs)*[[0,0]]"
   ]
  },
  {
   "cell_type": "code",
   "execution_count": 35,
   "metadata": {},
   "outputs": [
    {
     "output_type": "execute_result",
     "data": {
      "text/plain": [
       "(1024, 1024)"
      ]
     },
     "metadata": {},
     "execution_count": 35
    }
   ],
   "source": [
    "imgs[0].shape"
   ]
  },
  {
   "cell_type": "code",
   "execution_count": 36,
   "metadata": {},
   "outputs": [
    {
     "output_type": "stream",
     "name": "stdout",
     "text": [
      "TORCH CUDA version not installed/working.\n",
      ">>>> using CPU\n",
      "Running test snippet to check if MKL-DNN working\n",
      "see https://pytorch.org/docs/stable/backends.html?highlight=mkl\n",
      "** MKL version working - CPU version is sped up. **\n",
      "processing 63 image(s)\n",
      " 92%|█████████▏| 58/63 [05:42<00:17,  3.44s/it]"
     ]
    }
   ],
   "source": [
    "# RUN CELLPOSE\n",
    "\n",
    "from cellpose import models\n",
    "\n",
    "# DEFINE CELLPOSE MODEL\n",
    "# model_type='cyto' or model_type='nuclei'\n",
    "model = models.Cellpose(gpu=True, model_type='nuclei')\n",
    "\n",
    "# define CHANNELS to run segementation on\n",
    "# grayscale=0, R=1, G=2, B=3\n",
    "# channels = [cytoplasm, nucleus]\n",
    "# if NUCLEUS channel does not exist, set the second channel to 0\n",
    "# channels = [0,0]\n",
    "# IF ALL YOUR IMAGES ARE THE SAME TYPE, you can give a list with 2 elements\n",
    "# channels = [0,0] # IF YOU HAVE GRAYSCALE\n",
    "# channels = [2,3] # IF YOU HAVE G=cytoplasm and B=nucleus\n",
    "# channels = [2,1] # IF YOU HAVE G=cytoplasm and R=nucleus\n",
    "\n",
    "# or if you have different types of channels in each image\n",
    "# channels = [[2,3], [0,0], [0,0]]\n",
    "\n",
    "# if diameter is set to None, the size of the cells is estimated on a per image basis\n",
    "# you can set the average cell `diameter` in pixels yourself (recommended) \n",
    "# diameter can be a list or a single number for all images\n",
    "\n",
    "masks, flows, styles, diams = model.eval(imgs, diameter=110,\n",
    "                                         cellprob_threshold=0.5, resample=True,\n",
    "                                         flow_threshold=0.5,\n",
    "                                         # we disable stitching of masks due to a bug in cellpose\n",
    "                                         # see below for the workaround\n",
    "                                         stitch_threshold=0.0,\n",
    "                                         channels=channels)"
   ]
  },
  {
   "cell_type": "code",
   "execution_count": null,
   "metadata": {},
   "outputs": [],
   "source": [
    "len(flows)"
   ]
  },
  {
   "cell_type": "code",
   "execution_count": null,
   "metadata": {},
   "outputs": [],
   "source": [
    "flows[0][0].shape"
   ]
  },
  {
   "cell_type": "code",
   "execution_count": null,
   "metadata": {},
   "outputs": [],
   "source": [
    "from cellpose import plot\n",
    "def display_results(imgs, masks, flows):\n",
    "    nimg = len(imgs)\n",
    "    for idx in range(nimg):\n",
    "        maski = masks[idx]\n",
    "        flowi = flows[idx]\n",
    "\n",
    "        fig = plt.figure(figsize=(12,5))\n",
    "        plot.show_segmentation(fig, imgs[idx], maski, flowi, channels=channels[idx])\n",
    "        plt.tight_layout()\n",
    "        plt.show()"
   ]
  },
  {
   "cell_type": "code",
   "execution_count": null,
   "metadata": {
    "scrolled": true
   },
   "outputs": [],
   "source": [
    "display_results(imgs, \n",
    "                masks, \n",
    "                # an elaborate way to pick up zeroth element on second dimension of an array\n",
    "                [flows[idx][0] for idx in range(len(flows))])"
   ]
  },
  {
   "cell_type": "markdown",
   "metadata": {},
   "source": [
    "## Remap mask ids\n",
    "Remap mask ids to \"compact\" integers (from 0..len(unique_ids) range)"
   ]
  },
  {
   "cell_type": "code",
   "execution_count": null,
   "metadata": {},
   "outputs": [],
   "source": [
    "def compact_integer_values(a):\n",
    "    uniqs = np.unique(a)\n",
    "    max_value = uniqs.max()\n",
    "    assert max_value < 100000, max_value # some reasonable threshold that assures we do not allocate unreasonable amounts of memory below\n",
    "    compact_for_uniqs = np.zeros(uniqs.max()+1, dtype=np.int)\n",
    "    compact_for_uniqs[uniqs] = range(len(uniqs)) # each uniq receives a new index from the range\n",
    "    a_compact_values = compact_for_uniqs[a]\n",
    "    return a_compact_values"
   ]
  },
  {
   "cell_type": "code",
   "execution_count": null,
   "metadata": {},
   "outputs": [],
   "source": [
    "# masks = compact_integer_values(masks)"
   ]
  },
  {
   "cell_type": "markdown",
   "metadata": {},
   "source": [
    "## Mask volume estimate through voxel counting"
   ]
  },
  {
   "cell_type": "code",
   "execution_count": null,
   "metadata": {},
   "outputs": [],
   "source": [
    "masks_orig = masks\n",
    "masks = np.copy(masks_orig)"
   ]
  },
  {
   "cell_type": "code",
   "execution_count": null,
   "metadata": {},
   "outputs": [],
   "source": [
    "mask_indices, mask_volume = np.unique(masks,return_counts=True)\n",
    "mask_indices, mask_volume = mask_indices[1:], mask_volume[1:] # zero is background so we drop it for volume analysis\n",
    "mask_indices, mask_volume"
   ]
  },
  {
   "cell_type": "code",
   "execution_count": null,
   "metadata": {},
   "outputs": [],
   "source": [
    "plt.bar(range(len(mask_volume)), mask_volume)\n",
    "plt.title('Volume distribution')\n",
    "plt.show()"
   ]
  },
  {
   "cell_type": "code",
   "execution_count": null,
   "metadata": {},
   "outputs": [],
   "source": [
    "mask_volume_threshold = mask_volume.max()*mask_volume_threshold_of_max\n",
    "mask_volume_threshold"
   ]
  },
  {
   "cell_type": "code",
   "execution_count": null,
   "metadata": {},
   "outputs": [],
   "source": [
    "np.sum(mask_volume > mask_volume_threshold)"
   ]
  },
  {
   "cell_type": "code",
   "execution_count": null,
   "metadata": {},
   "outputs": [],
   "source": [
    "masks_indices_above_threshold = mask_indices[mask_volume > mask_volume_threshold]"
   ]
  },
  {
   "cell_type": "code",
   "execution_count": null,
   "metadata": {
    "scrolled": true
   },
   "outputs": [],
   "source": [
    "masks[np.isin(masks, masks_indices_above_threshold, invert=True)] = 0"
   ]
  },
  {
   "cell_type": "code",
   "execution_count": null,
   "metadata": {},
   "outputs": [],
   "source": [
    "np.unique(masks)"
   ]
  },
  {
   "cell_type": "code",
   "execution_count": null,
   "metadata": {},
   "outputs": [],
   "source": [
    "compact_integer_values(masks)"
   ]
  },
  {
   "cell_type": "code",
   "execution_count": null,
   "metadata": {},
   "outputs": [],
   "source": [
    "masks = masks_orig"
   ]
  },
  {
   "cell_type": "markdown",
   "metadata": {},
   "source": [
    "Put the exploratory code from the above into a reusable function"
   ]
  },
  {
   "cell_type": "code",
   "execution_count": null,
   "metadata": {},
   "outputs": [],
   "source": [
    "from IPython.display import display\n",
    "def zero_small_volume_masks(masks, mask_volume_threshold_of_max):\n",
    "    mask_indices, mask_volume = np.unique(masks,return_counts=True)\n",
    "    mask_indices, mask_volume = mask_indices[1:], mask_volume[1:] # zero is background so we drop it for volume analysis\n",
    "    display(mask_indices, mask_volume)\n",
    "    \n",
    "    plt.bar(range(len(mask_volume)), mask_volume)\n",
    "    plt.title('Volume distribution')\n",
    "    plt.show()\n",
    "    \n",
    "    mask_volume_threshold = mask_volume.max()*mask_volume_threshold_of_max\n",
    "    \n",
    "    import pandas as pd\n",
    "    df = pd.DataFrame(mask_volume, columns=['volume'])\n",
    "    display(df)\n",
    "    \n",
    "    df['% of max'] = (df['volume'] / df['volume'].max() * 100).round(1)\n",
    "    display(df)\n",
    "    \n",
    "    masks_indices_above_threshold = mask_indices[mask_volume > mask_volume_threshold]\n",
    "    masks_large_only = np.copy(masks)\n",
    "    masks_large_only[np.isin(masks_large_only, masks_indices_above_threshold, invert=True)] = 0\n",
    "    \n",
    "    masks_large_only = compact_integer_values(masks_large_only)\n",
    "    \n",
    "    display(np.unique(masks_large_only))\n",
    "    \n",
    "    return masks_large_only"
   ]
  },
  {
   "cell_type": "markdown",
   "metadata": {},
   "source": [
    "## Work-around: stitch 2D masks manually\n",
    "Cellpose has a bug that causes it to blow up if some planes do not have any cells at all (so segmentation masks are empty). In our case, the input file has a few empty planes added as padding during the \"alignment\" step."
   ]
  },
  {
   "cell_type": "code",
   "execution_count": null,
   "metadata": {
    "scrolled": true
   },
   "outputs": [],
   "source": [
    "len(masks)"
   ]
  },
  {
   "cell_type": "code",
   "execution_count": null,
   "metadata": {},
   "outputs": [],
   "source": [
    "from cellpose.utils import stitch3D"
   ]
  },
  {
   "cell_type": "code",
   "execution_count": null,
   "metadata": {},
   "outputs": [],
   "source": [
    "masks = np.array(masks) # with stitching disabled, masks are returned as an array instead of numpy array"
   ]
  },
  {
   "cell_type": "markdown",
   "metadata": {},
   "source": [
    "### Step 1: find Z-planes with non-empty segmentations"
   ]
  },
  {
   "cell_type": "code",
   "execution_count": null,
   "metadata": {},
   "outputs": [],
   "source": [
    "z_non_zero_idxs = np.any(masks, axis=(1,2))\n",
    "z_non_zero_idxs"
   ]
  },
  {
   "cell_type": "code",
   "execution_count": null,
   "metadata": {},
   "outputs": [],
   "source": [
    "masks.shape"
   ]
  },
  {
   "cell_type": "code",
   "execution_count": null,
   "metadata": {
    "scrolled": true
   },
   "outputs": [],
   "source": [
    "np.unique(masks)"
   ]
  },
  {
   "cell_type": "code",
   "execution_count": null,
   "metadata": {
    "scrolled": true
   },
   "outputs": [],
   "source": [
    "masks[z_non_zero_idxs].shape"
   ]
  },
  {
   "cell_type": "markdown",
   "metadata": {},
   "source": [
    "### Step 2: stitch non-empty planes"
   ]
  },
  {
   "cell_type": "code",
   "execution_count": null,
   "metadata": {},
   "outputs": [],
   "source": [
    "masks_non_empty_stitched = stitch3D(np.array(masks[z_non_zero_idxs]), stitch_threshold=0.5)"
   ]
  },
  {
   "cell_type": "markdown",
   "metadata": {},
   "source": [
    "### Step 3: distribute stitched masks back to the original indices of Z-planes"
   ]
  },
  {
   "cell_type": "code",
   "execution_count": null,
   "metadata": {},
   "outputs": [],
   "source": [
    "masks_stitched = np.zeros_like(masks); masks_stitched[z_non_zero_idxs] = masks_non_empty_stitched"
   ]
  },
  {
   "cell_type": "code",
   "execution_count": null,
   "metadata": {},
   "outputs": [],
   "source": [
    "masks_stitched.shape"
   ]
  },
  {
   "cell_type": "code",
   "execution_count": null,
   "metadata": {},
   "outputs": [],
   "source": [
    "masks_stitched = compact_integer_values(masks_stitched)"
   ]
  },
  {
   "cell_type": "code",
   "execution_count": null,
   "metadata": {},
   "outputs": [],
   "source": [
    "np.unique(masks_stitched)"
   ]
  },
  {
   "cell_type": "markdown",
   "metadata": {},
   "source": [
    "### Remove small volume outliers"
   ]
  },
  {
   "cell_type": "code",
   "execution_count": null,
   "metadata": {},
   "outputs": [],
   "source": [
    "masks_stitched = zero_small_volume_masks(masks_stitched, mask_volume_threshold_of_max)"
   ]
  },
  {
   "cell_type": "code",
   "execution_count": null,
   "metadata": {
    "scrolled": true
   },
   "outputs": [],
   "source": [
    "np.unique(masks_stitched)"
   ]
  },
  {
   "cell_type": "markdown",
   "metadata": {},
   "source": [
    "### Save final masks: compacted and without small volume outliers"
   ]
  },
  {
   "cell_type": "code",
   "execution_count": null,
   "metadata": {},
   "outputs": [],
   "source": [
    "np.save(out_mask_filepath, masks_stitched.astype(np.int8))"
   ]
  },
  {
   "cell_type": "markdown",
   "metadata": {
    "colab_type": "text",
    "id": "acPatqlKt7EI"
   },
   "source": [
    "## run cellpose 3D mode on CZI image"
   ]
  },
  {
   "cell_type": "code",
   "execution_count": null,
   "metadata": {
    "scrolled": true
   },
   "outputs": [],
   "source": [
    "z_start_idx, z_end_idx = 0,data.shape[0]\n",
    "z_start_idx, z_end_idx"
   ]
  },
  {
   "cell_type": "code",
   "execution_count": null,
   "metadata": {},
   "outputs": [],
   "source": [
    "imgs = data[z_start_idx:z_end_idx,nuclei_channel,:,:]"
   ]
  },
  {
   "cell_type": "code",
   "execution_count": null,
   "metadata": {},
   "outputs": [],
   "source": [
    "imgs.shape"
   ]
  },
  {
   "cell_type": "code",
   "execution_count": null,
   "metadata": {},
   "outputs": [],
   "source": [
    "channels = len(imgs)*[[0,0]]"
   ]
  },
  {
   "cell_type": "code",
   "execution_count": null,
   "metadata": {
    "colab": {
     "base_uri": "https://localhost:8080/",
     "height": 255
    },
    "colab_type": "code",
    "id": "92RStllFN2Ek",
    "outputId": "aa7f69fc-5f84-4175-f64d-21ea7e2b9dd0"
   },
   "outputs": [],
   "source": [
    "# DISABLED: too expensive to run (for now)\n",
    "# %%time\n",
    "# # test 3D stack\n",
    "# from cellpose import models\n",
    "\n",
    "# model = models.Cellpose(gpu=True, model_type='cyto')\n",
    "\n",
    "# # in this example I'm using a random matrix, put your own data here\n",
    "# # data = np.random.randn(120,512,512).astype(np.float32)\n",
    "# # data = imread('/home/gkk/ada_lsm_test_squeeze.tif')\n",
    "\n",
    "# # with 3D you have to set the diameter manually (no auto detect)\n",
    "# #imgs, diameter=110, #flow_threshddold=, \n",
    "# #                                         cellprob_threshold=0.5, resample=True,\n",
    "# #                                          flow_threshold=0.2,\n",
    "# #                                         stitch_threshold=0.4,\n",
    "# #                                         channels=channels\n",
    "# masks, flows, styles, diams = model.eval(imgs, channels=channels,\n",
    "#                                          diameter=110, \n",
    "#                                          do_3D=True, \n",
    "#                                          resample=True,\n",
    "#                                          cellprob_threshold=0.5,\n",
    "#                                          flow_threshold=0.5,\n",
    "# #                                          anisotropy=3.0,\n",
    "# #                                         boundary_threshold=0.5\n",
    "# #                                          min_size=80.0,\n",
    "#                                          batch_size=1)"
   ]
  },
  {
   "cell_type": "code",
   "execution_count": null,
   "metadata": {},
   "outputs": [],
   "source": [
    "# masks.shape"
   ]
  },
  {
   "cell_type": "code",
   "execution_count": null,
   "metadata": {},
   "outputs": [],
   "source": [
    "# np.unique(masks)"
   ]
  },
  {
   "cell_type": "code",
   "execution_count": null,
   "metadata": {
    "scrolled": true
   },
   "outputs": [],
   "source": [
    "# display_results(imgs, masks, flows[0])"
   ]
  },
  {
   "cell_type": "markdown",
   "metadata": {},
   "source": [
    "### Remove small volume outliers"
   ]
  },
  {
   "cell_type": "code",
   "execution_count": null,
   "metadata": {},
   "outputs": [],
   "source": [
    "#np.unique(masks)"
   ]
  },
  {
   "cell_type": "code",
   "execution_count": null,
   "metadata": {},
   "outputs": [],
   "source": [
    "#masks = zero_small_volume_masks(masks, mask_volume_threshold_of_max)"
   ]
  },
  {
   "cell_type": "code",
   "execution_count": null,
   "metadata": {},
   "outputs": [],
   "source": [
    "#np.unique(masks)"
   ]
  },
  {
   "cell_type": "markdown",
   "metadata": {},
   "source": [
    "### Save final masks: compacted and without small volume outliers"
   ]
  },
  {
   "cell_type": "code",
   "execution_count": null,
   "metadata": {},
   "outputs": [],
   "source": [
    "# np.save(f'{basedir_out}/masks_3D_{base_filename}.npy', masks.astype(np.int8))"
   ]
  }
 ],
 "metadata": {
  "accelerator": "GPU",
  "colab": {
   "collapsed_sections": [],
   "include_colab_link": true,
   "name": "run_cellpose_GPU.ipynb",
   "provenance": [],
   "toc_visible": true
  },
  "kernelspec": {
   "display_name": "Python 3",
   "language": "python",
   "name": "python3"
  },
  "language_info": {
   "codemirror_mode": {
    "name": "ipython",
    "version": 3
   },
   "file_extension": ".py",
   "mimetype": "text/x-python",
   "name": "python",
   "nbconvert_exporter": "python",
   "pygments_lexer": "ipython3",
   "version": "3.8.5-final"
  }
 },
 "nbformat": 4,
 "nbformat_minor": 1
}