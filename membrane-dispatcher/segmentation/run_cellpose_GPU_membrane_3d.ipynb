{
 "cells": [
  {
   "cell_type": "markdown",
   "metadata": {
    "colab_type": "text",
    "id": "Q7c7V4yEqDc_"
   },
   "source": [
    "# Run cellpose on a single file"
   ]
  },
  {
   "cell_type": "code",
   "execution_count": null,
   "metadata": {},
   "outputs": [],
   "source": [
    "czi_file_path = '/home/ubuntu/Projects/data/uploads/grzegorz.kossakowski@gmail.com/FISH1_BDNF488_1_cLTP_3_CA-gkk FISH1_BDNF488_1_cLTP_2_CA-gkk/FISH1_BDNF488_1_cLTP_2_CA-gkk.czi'\n",
    "out_mask_filepath = '/home/ubuntu/tmp/masks_3d_FISH1_BDNF488_1_cLTP_3_CA.npy'\n",
    "# we assume we make use of only one channel (DAPI) from the input\n",
    "nuclei_channel = 1\n",
    "mask_volume_threshold_of_max = 0.05\n",
    "diameter = 110"
   ]
  },
  {
   "cell_type": "code",
   "execution_count": null,
   "metadata": {
    "colab": {
     "base_uri": "https://localhost:8080/",
     "height": 34
    },
    "colab_type": "code",
    "id": "hG3LSmJmLylT",
    "outputId": "1fa3d4e7-5c03-4699-ac33-879a319343e5"
   },
   "outputs": [],
   "source": [
    "import numpy as np\n",
    "import time, os, sys\n",
    "from urllib.parse import urlparse\n",
    "import skimage.io\n",
    "import matplotlib.pyplot as plt\n",
    "import matplotlib as mpl\n",
    "%matplotlib inline\n",
    "mpl.rcParams['figure.dpi'] = 300\n",
    "\n",
    "from urllib.parse import urlparse\n",
    "import torch\n",
    "from cellpose import utils\n",
    "\n",
    "from pathlib import Path\n",
    "\n",
    "# use_GPU = utils.use_gpu()\n",
    "# print('GPU activated? %d'%use_GPU)\n"
   ]
  },
  {
   "cell_type": "code",
   "execution_count": null,
   "metadata": {},
   "outputs": [],
   "source": [
    "assert Path(czi_file_path).suffix == '.czi', czi_file_path\n",
    "assert Path(czi_file_path).exists(), czi_file_path"
   ]
  },
  {
   "cell_type": "code",
   "execution_count": null,
   "metadata": {},
   "outputs": [],
   "source": [
    "base_filename = Path(czi_file_path).stem\n",
    "base_filename"
   ]
  },
  {
   "cell_type": "markdown",
   "metadata": {
    "colab_type": "text",
    "id": "qj5AIZ825o7P"
   },
   "source": [
    "## save output to *_seg.npy\n",
    "\n",
    "you will see the files save in the Files tab and you can download them from there"
   ]
  },
  {
   "cell_type": "code",
   "execution_count": null,
   "metadata": {
    "colab": {},
    "colab_type": "code",
    "id": "qc7EWe_f5oEH"
   },
   "outputs": [],
   "source": [
    "# TODO(gkk): we might want to save this \n",
    "# from cellpose import io\n",
    "\n",
    "# io.masks_flows_to_seg(imgs, masks, flows, diams, files, channels)"
   ]
  },
  {
   "cell_type": "markdown",
   "metadata": {},
   "source": [
    "# Read the input data"
   ]
  },
  {
   "cell_type": "code",
   "execution_count": null,
   "metadata": {},
   "outputs": [],
   "source": [
    "import tifffile\n",
    "tifffile.__version__"
   ]
  },
  {
   "cell_type": "code",
   "execution_count": null,
   "metadata": {},
   "outputs": [],
   "source": [
    "from tifffile import imread"
   ]
  },
  {
   "cell_type": "code",
   "execution_count": null,
   "metadata": {},
   "outputs": [],
   "source": [
    "from aicsimageio import AICSImage"
   ]
  },
  {
   "cell_type": "code",
   "execution_count": null,
   "metadata": {},
   "outputs": [],
   "source": [
    "# swap axes so we have the (Z, channels, Y, X) shape\n",
    "# TODO: make this automatic\n",
    "data = np.swapaxes(AICSImage(czi_file_path).data.squeeze(), 0, 1)\n",
    "data.shape"
   ]
  },
  {
   "cell_type": "markdown",
   "metadata": {
    "colab_type": "text",
    "id": "acPatqlKt7EI"
   },
   "source": [
    "## run cellpose 3D mode on CZI image"
   ]
  },
  {
   "cell_type": "code",
   "execution_count": null,
   "metadata": {
    "scrolled": true
   },
   "outputs": [],
   "source": [
    "z_start_idx, z_end_idx = 0,data.shape[0]\n",
    "z_start_idx, z_end_idx"
   ]
  },
  {
   "cell_type": "code",
   "execution_count": null,
   "metadata": {},
   "outputs": [],
   "source": [
    "imgs = data[z_start_idx:z_end_idx,nuclei_channel,:,:]"
   ]
  },
  {
   "cell_type": "code",
   "execution_count": null,
   "metadata": {},
   "outputs": [],
   "source": [
    "imgs.shape"
   ]
  },
  {
   "cell_type": "code",
   "execution_count": null,
   "metadata": {},
   "outputs": [],
   "source": [
    "channels = len(imgs)*[[0,0]]"
   ]
  },
  {
   "cell_type": "code",
   "execution_count": null,
   "metadata": {
    "colab": {
     "base_uri": "https://localhost:8080/",
     "height": 255
    },
    "colab_type": "code",
    "id": "92RStllFN2Ek",
    "outputId": "aa7f69fc-5f84-4175-f64d-21ea7e2b9dd0"
   },
   "outputs": [],
   "source": [
    "\n",
    "%%time\n",
    "# test 3D stack\n",
    "from cellpose import models\n",
    "\n",
    "model = models.Cellpose(gpu=True, model_type='cyto')\n",
    "\n",
    "# in this example I'm using a random matrix, put your own data here\n",
    "# data = np.random.randn(120,512,512).astype(np.float32)\n",
    "# data = imread('/home/gkk/ada_lsm_test_squeeze.tif')\n",
    "\n",
    "# with 3D you have to set the diameter manually (no auto detect)\n",
    "#imgs, diameter=110, #flow_threshddold=, \n",
    "#                                         cellprob_threshold=0.5, resample=True,\n",
    "#                                          flow_threshold=0.2,\n",
    "#                                         stitch_threshold=0.4,\n",
    "#                                         channels=channels\n",
    "masks, flows, styles, diams = model.eval(imgs, channels=channels,\n",
    "                                         diameter=110, \n",
    "                                         do_3D=True, \n",
    "                                         resample=True,\n",
    "                                         cellprob_threshold=0.5,\n",
    "                                         flow_threshold=0.5,\n",
    "#                                          anisotropy=3.0,\n",
    "#                                         boundary_threshold=0.5\n",
    "#                                          min_size=80.0,\n",
    "                                         batch_size=2)"
   ]
  },
  {
   "cell_type": "code",
   "execution_count": null,
   "metadata": {},
   "outputs": [],
   "source": [
    "masks.shape"
   ]
  },
  {
   "cell_type": "code",
   "execution_count": null,
   "metadata": {},
   "outputs": [],
   "source": [
    "np.unique(masks)"
   ]
  },
  {
   "cell_type": "code",
   "execution_count": null,
   "metadata": {},
   "outputs": [],
   "source": [
    "from cellpose import plot\n",
    "def display_results(imgs, masks, flows):\n",
    "    nimg = len(imgs)\n",
    "    for idx in range(nimg):\n",
    "        maski = masks[idx]\n",
    "        flowi = flows[idx]\n",
    "\n",
    "        fig = plt.figure(figsize=(12,5))\n",
    "        plot.show_segmentation(fig, imgs[idx], maski, flowi, channels=channels[idx])\n",
    "        plt.tight_layout()\n",
    "        plt.show()"
   ]
  },
  {
   "cell_type": "code",
   "execution_count": null,
   "metadata": {
    "scrolled": false
   },
   "outputs": [],
   "source": [
    "display_results(imgs, masks, flows[0])"
   ]
  },
  {
   "cell_type": "markdown",
   "metadata": {},
   "source": [
    "## Remap mask ids\n",
    "Remap mask ids to \"compact\" integers (from 0..len(unique_ids) range)"
   ]
  },
  {
   "cell_type": "code",
   "execution_count": null,
   "metadata": {},
   "outputs": [],
   "source": [
    "def compact_integer_values(a):\n",
    "    uniqs = np.unique(a)\n",
    "    max_value = uniqs.max()\n",
    "    assert max_value < 100000, max_value # some reasonable threshold that assures we do not allocate unreasonable amounts of memory below\n",
    "    compact_for_uniqs = np.zeros(uniqs.max()+1, dtype=np.int)\n",
    "    compact_for_uniqs[uniqs] = range(len(uniqs)) # each uniq receives a new index from the range\n",
    "    a_compact_values = compact_for_uniqs[a]\n",
    "    return a_compact_values"
   ]
  },
  {
   "cell_type": "code",
   "execution_count": null,
   "metadata": {},
   "outputs": [],
   "source": [
    "# masks = compact_integer_values(masks)"
   ]
  },
  {
   "cell_type": "markdown",
   "metadata": {},
   "source": [
    "## Mask volume estimate through voxel counting"
   ]
  },
  {
   "cell_type": "code",
   "execution_count": null,
   "metadata": {},
   "outputs": [],
   "source": [
    "masks_orig = masks\n",
    "masks = np.copy(masks_orig)"
   ]
  },
  {
   "cell_type": "code",
   "execution_count": null,
   "metadata": {},
   "outputs": [],
   "source": [
    "mask_indices, mask_volume = np.unique(masks,return_counts=True)\n",
    "mask_indices, mask_volume = mask_indices[1:], mask_volume[1:] # zero is background so we drop it for volume analysis\n",
    "mask_indices, mask_volume"
   ]
  },
  {
   "cell_type": "code",
   "execution_count": null,
   "metadata": {},
   "outputs": [],
   "source": [
    "plt.bar(range(len(mask_volume)), mask_volume)\n",
    "plt.title('Volume distribution')\n",
    "plt.show()"
   ]
  },
  {
   "cell_type": "code",
   "execution_count": null,
   "metadata": {},
   "outputs": [],
   "source": [
    "mask_volume_threshold = mask_volume.max()*mask_volume_threshold_of_max\n",
    "mask_volume_threshold"
   ]
  },
  {
   "cell_type": "code",
   "execution_count": null,
   "metadata": {},
   "outputs": [],
   "source": [
    "np.sum(mask_volume > mask_volume_threshold)"
   ]
  },
  {
   "cell_type": "code",
   "execution_count": null,
   "metadata": {},
   "outputs": [],
   "source": [
    "masks_indices_above_threshold = mask_indices[mask_volume > mask_volume_threshold]"
   ]
  },
  {
   "cell_type": "code",
   "execution_count": null,
   "metadata": {
    "scrolled": true
   },
   "outputs": [],
   "source": [
    "masks[np.isin(masks, masks_indices_above_threshold, invert=True)] = 0"
   ]
  },
  {
   "cell_type": "code",
   "execution_count": null,
   "metadata": {},
   "outputs": [],
   "source": [
    "np.unique(masks)"
   ]
  },
  {
   "cell_type": "code",
   "execution_count": null,
   "metadata": {},
   "outputs": [],
   "source": [
    "compact_integer_values(masks)"
   ]
  },
  {
   "cell_type": "code",
   "execution_count": null,
   "metadata": {},
   "outputs": [],
   "source": [
    "masks = masks_orig"
   ]
  },
  {
   "cell_type": "markdown",
   "metadata": {},
   "source": [
    "Put the exploratory code from the above into a reusable function"
   ]
  },
  {
   "cell_type": "code",
   "execution_count": null,
   "metadata": {},
   "outputs": [],
   "source": [
    "from IPython.display import display\n",
    "def zero_small_volume_masks(masks, mask_volume_threshold_of_max):\n",
    "    mask_indices, mask_volume = np.unique(masks,return_counts=True)\n",
    "    mask_indices, mask_volume = mask_indices[1:], mask_volume[1:] # zero is background so we drop it for volume analysis\n",
    "    display(mask_indices, mask_volume)\n",
    "    \n",
    "    plt.bar(range(len(mask_volume)), mask_volume)\n",
    "    plt.title('Volume distribution')\n",
    "    plt.show()\n",
    "    \n",
    "    mask_volume_threshold = mask_volume.max()*mask_volume_threshold_of_max\n",
    "    \n",
    "    import pandas as pd\n",
    "    df = pd.DataFrame(mask_volume, columns=['volume'])\n",
    "    display(df)\n",
    "    \n",
    "    df['% of max'] = (df['volume'] / df['volume'].max() * 100).round(1)\n",
    "    display(df)\n",
    "    \n",
    "    masks_indices_above_threshold = mask_indices[mask_volume > mask_volume_threshold]\n",
    "    masks_large_only = np.copy(masks)\n",
    "    masks_large_only[np.isin(masks_large_only, masks_indices_above_threshold, invert=True)] = 0\n",
    "    \n",
    "    masks_large_only = compact_integer_values(masks_large_only)\n",
    "    \n",
    "    display(np.unique(masks_large_only))\n",
    "    \n",
    "    return masks_large_only"
   ]
  },
  {
   "cell_type": "markdown",
   "metadata": {},
   "source": [
    "### Remove small volume outliers"
   ]
  },
  {
   "cell_type": "code",
   "execution_count": null,
   "metadata": {},
   "outputs": [],
   "source": [
    "masks = zero_small_volume_masks(masks, mask_volume_threshold_of_max)"
   ]
  },
  {
   "cell_type": "code",
   "execution_count": null,
   "metadata": {
    "scrolled": true
   },
   "outputs": [],
   "source": [
    "np.unique(masks)"
   ]
  },
  {
   "cell_type": "markdown",
   "metadata": {},
   "source": [
    "### Save final masks: compacted and without small volume outliers"
   ]
  },
  {
   "cell_type": "code",
   "execution_count": null,
   "metadata": {},
   "outputs": [],
   "source": [
    "np.save(out_mask_filepath, masks.astype(np.int8))"
   ]
  }
 ],
 "metadata": {
  "accelerator": "GPU",
  "colab": {
   "collapsed_sections": [],
   "include_colab_link": true,
   "name": "run_cellpose_GPU.ipynb",
   "provenance": [],
   "toc_visible": true
  },
  "kernelspec": {
   "display_name": "Python 3",
   "language": "python",
   "name": "python3"
  },
  "language_info": {
   "codemirror_mode": {
    "name": "ipython",
    "version": 3
   },
   "file_extension": ".py",
   "mimetype": "text/x-python",
   "name": "python",
   "nbconvert_exporter": "python",
   "pygments_lexer": "ipython3",
   "version": "3.8.5"
  }
 },
 "nbformat": 4,
 "nbformat_minor": 1
}
