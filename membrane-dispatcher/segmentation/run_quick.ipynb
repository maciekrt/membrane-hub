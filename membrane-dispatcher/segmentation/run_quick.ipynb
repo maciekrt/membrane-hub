{
 "metadata": {
  "language_info": {
   "codemirror_mode": {
    "name": "ipython",
    "version": 3
   },
   "file_extension": ".py",
   "mimetype": "text/x-python",
   "name": "python",
   "nbconvert_exporter": "python",
   "pygments_lexer": "ipython3",
   "version": "3.8.5-final"
  },
  "orig_nbformat": 2,
  "kernelspec": {
   "name": "python3",
   "display_name": "Python 3",
   "language": "python"
  }
 },
 "nbformat": 4,
 "nbformat_minor": 2,
 "cells": [
  {
   "cell_type": "code",
   "execution_count": null,
   "metadata": {},
   "outputs": [],
   "source": [
    "czi_file_path = '/home/ubuntu/FISH1_BDNF488_1_cLTP_3_CA.czi'\n",
    "basedir_out = './'"
   ]
  },
  {
   "cell_type": "code",
   "execution_count": null,
   "metadata": {},
   "outputs": [],
   "source": []
  },
  {
   "cell_type": "code",
   "execution_count": 1,
   "metadata": {},
   "outputs": [
    {
     "output_type": "stream",
     "name": "stdout",
     "text": [
      "it worked\n"
     ]
    }
   ],
   "source": [
    "print('it worked')"
   ]
  },
  {
   "cell_type": "code",
   "execution_count": null,
   "metadata": {},
   "outputs": [],
   "source": [
    "import datetime\n",
    "timestamp_filename_safe = datetime.datetime.now().strftime(\"%Y_%m_%d-%H_%M_%S\")\n",
    "with open(f'{basedir_out}/run_trace.txt', 'w') as f:\n",
    "    f.write(f'it worked! {timestamp_filename_safe}')"
   ]
  }
 ]
}